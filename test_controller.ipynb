{
 "cells": [
  {
   "cell_type": "code",
   "execution_count": 1,
   "metadata": {
    "collapsed": false,
    "deletable": true,
    "editable": true
   },
   "outputs": [],
   "source": [
    "import tensorflow as tf\n",
    "from memory import Memory\n",
    "from controller import BaseController\n",
    "from feedforward_controller import FeedforwardController\n",
    "import numpy as np\n",
    "import math"
   ]
  },
  {
   "cell_type": "code",
   "execution_count": 2,
   "metadata": {
    "collapsed": true
   },
   "outputs": [],
   "source": [
    "cont = FeedforwardController(10,10,2,5,1,1)"
   ]
  },
  {
   "cell_type": "code",
   "execution_count": 3,
   "metadata": {
    "collapsed": false
   },
   "outputs": [
    {
     "data": {
      "text/plain": [
       "{'erase_vector': <tf.Tensor 'Sigmoid_2:0' shape=(1, 5) dtype=float32>,\n",
       " 'read_gammas': <tf.Tensor 'add_2:0' shape=(1, 2) dtype=float32>,\n",
       " 'read_gates': <tf.Tensor 'Sigmoid:0' shape=(1, 2) dtype=float32>,\n",
       " 'read_keys': <tf.Tensor 'Tanh:0' shape=(1, 5, 2) dtype=float32>,\n",
       " 'read_shifts': <tf.Tensor 'transpose_1:0' shape=(1, 3, 2) dtype=float32>,\n",
       " 'read_strengths': <tf.Tensor 'Softplus:0' shape=(1, 2) dtype=float32>,\n",
       " 'write_gamma': <tf.Tensor 'add_3:0' shape=(1, 1) dtype=float32>,\n",
       " 'write_gate': <tf.Tensor 'Sigmoid_1:0' shape=(1, 1) dtype=float32>,\n",
       " 'write_key': <tf.Tensor 'Tanh_1:0' shape=(1, 5, 1) dtype=float32>,\n",
       " 'write_shift': <tf.Tensor 'Softmax_1:0' shape=(1, 3) dtype=float32>,\n",
       " 'write_strength': <tf.Tensor 'Softplus_2:0' shape=(1, 1) dtype=float32>,\n",
       " 'write_vector': <tf.Tensor 'Tanh_2:0' shape=(1, 5) dtype=float32>}"
      ]
     },
     "execution_count": 3,
     "metadata": {},
     "output_type": "execute_result"
    }
   ],
   "source": [
    "input_ = tf.fill([1,10], 1.0)\n",
    "last_read = tf.reshape(tf.constant([1.0,0.4,0.6,0.5,0.0,1.0,0.4,0.6,0.5,0.0]),(1,5,2))\n",
    "a,b = cont.process_input(input_,last_read)\n",
    "b"
   ]
  },
  {
   "cell_type": "code",
   "execution_count": 4,
   "metadata": {
    "collapsed": false,
    "deletable": true,
    "editable": true
   },
   "outputs": [
    {
     "name": "stdout",
     "output_type": "stream",
     "text": [
      "[[[ 0.3333596   0.33336416]\n",
      "  [ 0.33337075  0.33330742]\n",
      "  [ 0.33326969  0.33332846]]]\n"
     ]
    }
   ],
   "source": [
    "with tf.Session() as session:\n",
    "    session.run(tf.global_variables_initializer())\n",
    "    values = session.run(b['read_shifts'])\n",
    "    print(values)"
   ]
  },
  {
   "cell_type": "code",
   "execution_count": null,
   "metadata": {
    "collapsed": true,
    "deletable": true,
    "editable": true
   },
   "outputs": [],
   "source": []
  }
 ],
 "metadata": {
  "kernelspec": {
   "display_name": "Python 2",
   "language": "python",
   "name": "python2"
  },
  "language_info": {
   "codemirror_mode": {
    "name": "ipython",
    "version": 2
   },
   "file_extension": ".py",
   "mimetype": "text/x-python",
   "name": "python",
   "nbconvert_exporter": "python",
   "pygments_lexer": "ipython2",
   "version": "2.7.13"
  }
 },
 "nbformat": 4,
 "nbformat_minor": 2
}
