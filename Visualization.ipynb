{
 "cells": [
  {
   "cell_type": "code",
   "execution_count": 1,
   "metadata": {
    "collapsed": true,
    "deletable": true,
    "editable": true
   },
   "outputs": [],
   "source": [
    "import os\n",
    "import sys\n",
    "import itertools\n",
    "import numpy as np\n",
    "import tensorflow as tf\n",
    "import matplotlib.pyplot as plt\n",
    "import matplotlib.patches as mpatches\n",
    "import matplotlib.gridspec as gridspec\n",
    "from mpl_toolkits.axes_grid1 import make_axes_locatable\n",
    "\n",
    "from ntm import NTM\n",
    "from recurrent_controller import RecurrentController\n",
    "\n",
    "%matplotlib inline\n",
    "plt.rcParams['figure.figsize'] = (10, 15)"
   ]
  },
  {
   "cell_type": "code",
   "execution_count": 2,
   "metadata": {
    "collapsed": true,
    "deletable": true,
    "editable": true
   },
   "outputs": [],
   "source": [
    "def generate_data(batch_size, length, size):\n",
    "    input_data = np.zeros((batch_size, 2 * length + 2, size), dtype=np.float32)\n",
    "    target_output = np.zeros((batch_size, 2 * length + 2, size), dtype=np.float32)\n",
    "\n",
    "    sequence = np.random.binomial(1, 0.5, (batch_size, length, size - 2))\n",
    "    input_data[:, 0, 0] = 1\n",
    "    input_data[:, 1:length+1, 1:size-1] = sequence\n",
    "    input_data[:, length+1, -1] = 1  # the end symbol\n",
    "    target_output[:, length + 2:, 1:size-1] = sequence\n",
    "\n",
    "    return input_data, target_output\n",
    "\n",
    "def llprint(message):\n",
    "    sys.stdout.write(message)\n",
    "    sys.stdout.flush()"
   ]
  },
  {
   "cell_type": "code",
   "execution_count": 3,
   "metadata": {
    "collapsed": true,
    "deletable": true,
    "editable": true
   },
   "outputs": [],
   "source": [
    "def binary_cross_entropy(predictions, targets):\n",
    "    return tf.reduce_mean(-1 * targets * tf.log(predictions) - (1 - targets) * tf.log(1 - predictions))"
   ]
  },
  {
   "cell_type": "code",
   "execution_count": 4,
   "metadata": {
    "collapsed": true,
    "deletable": true,
    "editable": true
   },
   "outputs": [],
   "source": [
    "def visualize_op(input_series, ntm_output, memory_view):\n",
    "    gs = gridspec.GridSpec(25, 1, hspace=0)\n",
    "\n",
    "    ww_strip = np.squeeze(memory_view['write_weightings'])\n",
    "    rw_strip = np.squeeze(memory_view['read_weightings'])\n",
    "    colored_write = np.zeros((ww_strip.shape[0], ww_strip.shape[1], 3))\n",
    "    colored_read = np.zeros((rw_strip.shape[0], rw_strip.shape[1], 3))\n",
    "    for i in range(ww_strip.shape[0]):\n",
    "        for j in range(ww_strip.shape[1]):\n",
    "            colored_read[i, j] = [rw_strip[i,j], 0., 0.]\n",
    "            colored_write[i, j] = [0., ww_strip[i,j], 0.]\n",
    "\n",
    "\n",
    "    iax = plt.subplot(gs[0:5, 0])\n",
    "    oax = plt.subplot(gs[7:12, 0])\n",
    "    memax = plt.subplot(gs[14:, 0])\n",
    "\n",
    "    iax.grid(True, color='gray')\n",
    "    oax.grid(True, color='gray')\n",
    "    memax.grid(True, color='gray', axis='x')\n",
    "        \n",
    "    iax.imshow(np.squeeze(input_series.T), cmap=plt.cm.gray, interpolation='nearest')\n",
    "    iax.set_ylabel(\"Inputs\")\n",
    "    iax.set_yticks([])\n",
    "    iax.set_xticks([-0.5, 5.5, 10.5, 16.5, 21.5, 27.5, 32.5, 38.5, 43.5])\n",
    "    iax.set_xticklabels([0, 6, 11, 17, 22, 28, 33, 39, 44])\n",
    "\n",
    "    oax.imshow(np.squeeze(ntm_output.T), cmap=plt.cm.gray, interpolation='nearest')\n",
    "    oax.set_ylabel(\"Outputs\")\n",
    "    oax.set_yticks([])\n",
    "    oax.set_xticks([-0.5, 5.5, 10.5, 16.5, 21.5, 27.5, 32.5, 38.5, 43.5])\n",
    "    oax.set_xticklabels([0, 6, 11, 17, 22, 28, 33, 39, 44])\n",
    "\n",
    "    memax.imshow(np.transpose(colored_write + colored_read, [1, 0, 2]), interpolation='nearest')\n",
    "    memax.set_ylabel(\"Memory Location\")\n",
    "    memax.set_xticks([-0.5, 5.5, 10.5, 16.5, 21.5, 27.5, 32.5, 38.5, 43.5])\n",
    "    memax.set_xticklabels([0, 6, 11, 17, 22, 28, 33, 39, 44])\n",
    "    write_legend = mpatches.Rectangle((1,1), 1, 1, color='green', label='Write Head')\n",
    "    read_legend = mpatches.Rectangle((1,1), 1, 1, color='red', label='Read Head')\n",
    "    memax.legend(bbox_to_anchor=(0.21, -0.1), handles=[write_legend, read_legend])\n",
    "    \n",
    "    return colored_write, colored_read"
   ]
  },
  {
   "cell_type": "markdown",
   "metadata": {
    "deletable": true,
    "editable": true
   },
   "source": [
    "## NTM model\n",
    "\n",
    "Trained on sequences of length up to 10."
   ]
  },
  {
   "cell_type": "code",
   "execution_count": 8,
   "metadata": {
    "collapsed": false,
    "deletable": true,
    "editable": true
   },
   "outputs": [
    {
     "name": "stdout",
     "output_type": "stream",
     "text": [
      "Avg. Accuracy: 0.0000\n",
      "Avg. Loss: 0.1372\n"
     ]
    }
   ],
   "source": [
    "testing_length = 10\n",
    "testing_runs = 10\n",
    "\n",
    "losses = []\n",
    "matches = []\n",
    "inputs = []\n",
    "outs = []\n",
    "views = []\n",
    "\n",
    "ckpts_dir = os.path.join(os.path.dirname(\"__file__\"), 'LSTM/checkpoints')\n",
    "\n",
    "tf.reset_default_graph()\n",
    "\n",
    "with tf.Session() as session:\n",
    "\n",
    "    turing_machine = NTM(\n",
    "        RecurrentController,\n",
    "        input_size = 10,\n",
    "        output_size = 10,\n",
    "        memory_locations = 128,\n",
    "        memory_word_size = 20,\n",
    "        memory_read_heads = 1,\n",
    "        shift_range = 1,\n",
    "        batch_size = 1\n",
    "    )\n",
    "    \n",
    "    outputs, memory_views, mem_state = turing_machine.get_outputs()\n",
    "    squashed_output = tf.clip_by_value(tf.sigmoid(outputs), 1e-6, 1. - 1e-6)\n",
    "    loss = binary_cross_entropy(squashed_output, turing_machine.target_output)\n",
    "    \n",
    "    session.run(tf.global_variables_initializer())\n",
    "    turing_machine.restore(session, ckpts_dir, 'step-150000')\n",
    "    \n",
    "    for i in range(testing_runs):\n",
    "        in_sequences = []\n",
    "        out_sequences = []\n",
    "\n",
    "        for k in range(4):\n",
    "            input_data, target_output = generate_data(1, testing_length, 10)\n",
    "            in_sequences.append(input_data)\n",
    "            out_sequences.append(target_output)\n",
    "\n",
    "        one_big_input = np.concatenate(in_sequences, axis=1)\n",
    "        one_big_output = np.concatenate(out_sequences, axis=1)\n",
    "        \n",
    "        #input_data, target_output = generate_data(1, testing_length, 10)\n",
    "\n",
    "        loss_value,out,mem,mem_st = session.run([\n",
    "            loss,\n",
    "            squashed_output,\n",
    "            memory_views,\n",
    "            mem_state\n",
    "        ], feed_dict={\n",
    "            turing_machine.input_data: one_big_input,\n",
    "            turing_machine.target_output: one_big_output,\n",
    "            turing_machine.sequence_length: (testing_length*2 + 2)*4\n",
    "        })\n",
    "        \n",
    "        losses.append(loss_value)\n",
    "        inputs.append(one_big_input)\n",
    "        outs.append(out)\n",
    "        views.append(mem)\n",
    "        matches.append(np.allclose(one_big_output, np.around(out)))\n",
    "        \n",
    "print \"Avg. Accuracy: %.4f\" % (np.mean(matches))\n",
    "print \"Avg. Loss: %.4f\" % (np.mean(losses))"
   ]
  },
  {
   "cell_type": "code",
   "execution_count": 16,
   "metadata": {
    "collapsed": false
   },
   "outputs": [
    {
     "data": {
      "text/plain": [
       "array([-0.08498695, -0.08524425, -0.08375875,  0.00156472, -0.0062263 ,\n",
       "        0.06829134, -0.06844072, -0.08434977, -0.0851936 , -0.08509414,\n",
       "       -0.04736257, -0.01595117,  0.06080848, -0.01020747,  0.01863574,\n",
       "        0.00936606,  0.00453825,  0.08441769,  0.05486702,  0.01318873], dtype=float32)"
      ]
     },
     "execution_count": 16,
     "metadata": {},
     "output_type": "execute_result"
    }
   ],
   "source": [
    "mem_st[0,10,:,:][0,:]"
   ]
  },
  {
   "cell_type": "markdown",
   "metadata": {
    "deletable": true,
    "editable": true
   },
   "source": [
    "## Testing on sequences of length = 5"
   ]
  },
  {
   "cell_type": "code",
   "execution_count": 6,
   "metadata": {
    "collapsed": false,
    "deletable": true,
    "editable": true
   },
   "outputs": [
    {
     "name": "stdout",
     "output_type": "stream",
     "text": [
      "0.0902867\n"
     ]
    },
    {
     "data": {
      "image/png": "[encoded data removed]",
      "text/plain": [
       "<matplotlib.figure.Figure at 0x7ff64f774b50>"
      ]
     },
     "metadata": {},
     "output_type": "display_data"
    }
   ],
   "source": [
    "best_indx = np.argmin(losses)\n",
    "#best_indx = 300\n",
    "print losses[best_indx]\n",
    "best_input, best_output, best_memview = inputs[best_indx], outs[best_indx], views[best_indx]\n",
    "\n",
    "a = visualize_op(best_input, best_output, best_memview)"
   ]
  },
  {
   "cell_type": "code",
   "execution_count": 66,
   "metadata": {
    "collapsed": false,
    "deletable": true,
    "editable": true
   },
   "outputs": [
    {
     "data": {
      "text/plain": [
       "0.99999976"
      ]
     },
     "execution_count": 66,
     "metadata": {},
     "output_type": "execute_result"
    }
   ],
   "source": [
    "a = np.squeeze(best_memview['read_weightings'])[36,:]\n",
    "np.sum(a)"
   ]
  },
  {
   "cell_type": "code",
   "execution_count": null,
   "metadata": {
    "collapsed": true,
    "deletable": true,
    "editable": true
   },
   "outputs": [],
   "source": []
  },
  {
   "cell_type": "code",
   "execution_count": null,
   "metadata": {
    "collapsed": true,
    "deletable": true,
    "editable": true
   },
   "outputs": [],
   "source": []
  }
 ],
 "metadata": {
  "kernelspec": {
   "display_name": "Python 2",
   "language": "python",
   "name": "python2"
  },
  "language_info": {
   "codemirror_mode": {
    "name": "ipython",
    "version": 2
   },
   "file_extension": ".py",
   "mimetype": "text/x-python",
   "name": "python",
   "nbconvert_exporter": "python",
   "pygments_lexer": "ipython2",
   "version": "2.7.13"
  }
 },
 "nbformat": 4,
 "nbformat_minor": 2
}
