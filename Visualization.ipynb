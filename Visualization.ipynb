{
 "cells": [
  {
   "cell_type": "code",
   "execution_count": 1,
   "metadata": {
    "collapsed": true,
    "deletable": true,
    "editable": true
   },
   "outputs": [],
   "source": [
    "import os\n",
    "import sys\n",
    "import itertools\n",
    "import numpy as np\n",
    "import tensorflow as tf\n",
    "import matplotlib.pyplot as plt\n",
    "import matplotlib.patches as mpatches\n",
    "import matplotlib.gridspec as gridspec\n",
    "from mpl_toolkits.axes_grid1 import make_axes_locatable\n",
    "\n",
    "from ntm import NTM\n",
    "from recurrent_controller import RecurrentController\n",
    "\n",
    "%matplotlib inline\n",
    "plt.rcParams['figure.figsize'] = (10, 15)"
   ]
  },
  {
   "cell_type": "code",
   "execution_count": 2,
   "metadata": {
    "collapsed": true,
    "deletable": true,
    "editable": true
   },
   "outputs": [],
   "source": [
    "def generate_data(batch_size, length, size):\n",
    "    input_data = np.zeros((batch_size, 2 * length + 2, size), dtype=np.float32)\n",
    "    target_output = np.zeros((batch_size, 2 * length + 2, size), dtype=np.float32)\n",
    "\n",
    "    sequence = np.random.binomial(1, 0.5, (batch_size, length, size - 2))\n",
    "    input_data[:, 0, 0] = 1\n",
    "    input_data[:, 1:length+1, 1:size-1] = sequence\n",
    "    input_data[:, length+1, -1] = 1  # the end symbol\n",
    "    target_output[:, length + 2:, 1:size-1] = sequence\n",
    "\n",
    "    return input_data, target_output\n",
    "\n",
    "def llprint(message):\n",
    "    sys.stdout.write(message)\n",
    "    sys.stdout.flush()"
   ]
  },
  {
   "cell_type": "code",
   "execution_count": 3,
   "metadata": {
    "collapsed": true,
    "deletable": true,
    "editable": true
   },
   "outputs": [],
   "source": [
    "def binary_cross_entropy(predictions, targets):\n",
    "    return tf.reduce_mean(-1 * targets * tf.log(predictions) - (1 - targets) * tf.log(1 - predictions))"
   ]
  },
  {
   "cell_type": "code",
   "execution_count": 4,
   "metadata": {
    "collapsed": true,
    "deletable": true,
    "editable": true
   },
   "outputs": [],
   "source": [
    "def visualize_op(input_series, ntm_output, memory_view):\n",
    "    gs = gridspec.GridSpec(25, 1, hspace=0)\n",
    "\n",
    "    ww_strip = np.squeeze(memory_view['write_weightings'])\n",
    "    rw_strip = np.squeeze(memory_view['read_weightings'])\n",
    "    colored_write = np.zeros((ww_strip.shape[0], ww_strip.shape[1], 3))\n",
    "    colored_read = np.zeros((rw_strip.shape[0], rw_strip.shape[1], 3))\n",
    "    for i in range(ww_strip.shape[0]):\n",
    "        for j in range(ww_strip.shape[1]):\n",
    "            colored_read[i, j] = [rw_strip[i,j], 0., 0.]\n",
    "            colored_write[i, j] = [0., ww_strip[i,j], 0.]\n",
    "\n",
    "\n",
    "    iax = plt.subplot(gs[0:5, 0])\n",
    "    oax = plt.subplot(gs[7:12, 0])\n",
    "    memax = plt.subplot(gs[14:, 0])\n",
    "\n",
    "    iax.grid(True, color='gray')\n",
    "    oax.grid(True, color='gray')\n",
    "    memax.grid(True, color='gray', axis='x')\n",
    "        \n",
    "    iax.imshow(np.squeeze(input_series.T), cmap=plt.cm.gray, interpolation='nearest')\n",
    "    iax.set_ylabel(\"Inputs\")\n",
    "    iax.set_yticks([])\n",
    "    iax.set_xticks([-0.5, 5.5, 10.5, 16.5, 21.5, 27.5, 32.5, 38.5, 43.5])\n",
    "    iax.set_xticklabels([0, 6, 11, 17, 22, 28, 33, 39, 44])\n",
    "\n",
    "    oax.imshow(np.squeeze(ntm_output.T), cmap=plt.cm.gray, interpolation='nearest')\n",
    "    oax.set_ylabel(\"Outputs\")\n",
    "    oax.set_yticks([])\n",
    "    oax.set_xticks([-0.5, 5.5, 10.5, 16.5, 21.5, 27.5, 32.5, 38.5, 43.5])\n",
    "    oax.set_xticklabels([0, 6, 11, 17, 22, 28, 33, 39, 44])\n",
    "\n",
    "    memax.imshow(np.transpose(colored_write + colored_read, [1, 0, 2]), interpolation='nearest')\n",
    "    memax.set_ylabel(\"Memory Location\")\n",
    "    memax.set_xticks([-0.5, 5.5, 10.5, 16.5, 21.5, 27.5, 32.5, 38.5, 43.5])\n",
    "    memax.set_xticklabels([0, 6, 11, 17, 22, 28, 33, 39, 44])\n",
    "    write_legend = mpatches.Rectangle((1,1), 1, 1, color='green', label='Write Head')\n",
    "    read_legend = mpatches.Rectangle((1,1), 1, 1, color='red', label='Read Head')\n",
    "    memax.legend(bbox_to_anchor=(0.21, -0.1), handles=[write_legend, read_legend])\n",
    "    \n",
    "    return colored_write, colored_read"
   ]
  },
  {
   "cell_type": "markdown",
   "metadata": {
    "deletable": true,
    "editable": true
   },
   "source": [
    "## NTM model\n",
    "\n",
    "Trained on sequences of length up to 10."
   ]
  },
  {
   "cell_type": "code",
   "execution_count": 5,
   "metadata": {
    "collapsed": true,
    "deletable": true,
    "editable": true
   },
   "outputs": [],
   "source": [
    "def hamming_distance(s1, s2):\n",
    "    \"\"\"Return the Hamming distance between equal-length sequences\"\"\"\n",
    "    if len(s1) != len(s2):\n",
    "        raise ValueError(\"Undefined for sequences of unequal length\")\n",
    "    return sum(el1 != el2 for el1, el2 in zip(s1, s2))"
   ]
  },
  {
   "cell_type": "code",
   "execution_count": 8,
   "metadata": {
    "collapsed": false,
    "deletable": true,
    "editable": true
   },
   "outputs": [
    {
     "name": "stdout",
     "output_type": "stream",
     "text": [
      "Avg. Accuracy: 0.6000\n",
      "Avg. Loss: 0.0177\n",
      "Avg. Dist: 0.6000\n"
     ]
    }
   ],
   "source": [
    "testing_length = 5\n",
    "testing_runs = 10\n",
    "\n",
    "dist = []\n",
    "losses = []\n",
    "matches = []\n",
    "inputs = []\n",
    "outs = []\n",
    "views = []\n",
    "\n",
    "ckpts_dir = os.path.join(os.path.dirname(\"__file__\"), 'checkpoints')\n",
    "\n",
    "tf.reset_default_graph()\n",
    "\n",
    "with tf.Session() as session:\n",
    "\n",
    "    turing_machine = NTM(\n",
    "        RecurrentController,\n",
    "        input_size = 10,\n",
    "        output_size = 10,\n",
    "        memory_locations = 128,\n",
    "        memory_word_size = 20,\n",
    "        memory_read_heads = 1,\n",
    "        shift_range = 1,\n",
    "        batch_size = 1\n",
    "    )\n",
    "    \n",
    "    outputs, memory_views = turing_machine.get_outputs()\n",
    "    squashed_output = tf.clip_by_value(tf.sigmoid(outputs), 1e-6, 1. - 1e-6)\n",
    "    loss = binary_cross_entropy(squashed_output, turing_machine.target_output)\n",
    "    \n",
    "    session.run(tf.global_variables_initializer())\n",
    "    turing_machine.restore(session, ckpts_dir, 'step-20000')\n",
    "    \n",
    "    for i in range(testing_runs):\n",
    "        input_data, target_output = generate_data(1, testing_length, 10)\n",
    "\n",
    "        loss_value,out,mem = session.run([\n",
    "            loss,\n",
    "            squashed_output,\n",
    "            memory_views\n",
    "        ], feed_dict={\n",
    "            turing_machine.input_data: input_data,\n",
    "            turing_machine.target_output: target_output,\n",
    "            turing_machine.sequence_length: testing_length*2 + 2\n",
    "        })\n",
    "        \n",
    "        dist.append(hamming_distance(np.reshape(np.round(out),(1,-1)).tolist()[0],np.reshape(target_output,(1,-1)).tolist()[0]))\n",
    "        losses.append(loss_value)\n",
    "        inputs.append(input_data)\n",
    "        outs.append(out)\n",
    "        views.append(mem)\n",
    "        matches.append(np.allclose(target_output, np.around(out)))\n",
    "        \n",
    "print \"Avg. Accuracy: %.4f\" % (np.mean(matches))\n",
    "print \"Avg. Loss: %.4f\" % (np.mean(losses))\n",
    "print \"Avg. Dist: %.4f\" % (np.mean(dist))"
   ]
  },
  {
   "cell_type": "markdown",
   "metadata": {
    "deletable": true,
    "editable": true
   },
   "source": [
    "## Testing on sequences of length = 5"
   ]
  },
  {
   "cell_type": "code",
   "execution_count": 9,
   "metadata": {
    "collapsed": false,
    "deletable": true,
    "editable": true
   },
   "outputs": [
    {
     "name": "stdout",
     "output_type": "stream",
     "text": [
      "0.00562567\n"
     ]
    },
    {
     "data": {
      "image/png": "[encoded data removed]",
      "text/plain": [
       "<matplotlib.figure.Figure at 0x7f4405152e10>"
      ]
     },
     "metadata": {},
     "output_type": "display_data"
    }
   ],
   "source": [
    "best_indx = np.argmin(losses)\n",
    "#best_indx = 300\n",
    "print losses[best_indx]\n",
    "best_input, best_output, best_memview = inputs[best_indx], outs[best_indx], views[best_indx]\n",
    "\n",
    "a = visualize_op(best_input, best_output, best_memview)"
   ]
  },
  {
   "cell_type": "code",
   "execution_count": 8,
   "metadata": {
    "collapsed": false,
    "deletable": true,
    "editable": true
   },
   "outputs": [],
   "source": [
    "memory_matrix = mem['memory_vectors']\n",
    "read_weightings = mem['read_weightings']\n",
    "keys = mem['key_vectors']\n",
    "strengths = mem['beta_vectors']\n",
    "interpolation_gates = mem['gates_vectors']\n",
    "shift_weightings = mem['shift_vectors']\n",
    "sharp_gammas = mem['gamma_vectors']"
   ]
  },
  {
   "cell_type": "code",
   "execution_count": 15,
   "metadata": {
    "collapsed": false
   },
   "outputs": [
    {
     "name": "stdout",
     "output_type": "stream",
     "text": [
      "(1, 128, 20)\n",
      "(1, 128, 1)\n",
      "(1, 20, 1)\n",
      "(1, 1)\n",
      "(1, 1)\n",
      "(1, 3, 1)\n",
      "(1, 1)\n"
     ]
    }
   ],
   "source": [
    "mem_step = memory_matrix[:,0,:,:]\n",
    "print(mem_step.shape)\n",
    "read_w = read_weightings[:,0,:,:]\n",
    "print(read_w.shape)\n",
    "keys_step = keys[:,0,:,:]\n",
    "print(keys_step.shape)\n",
    "beta_read = strengths[:,0,:]\n",
    "print(beta_read.shape)\n",
    "gate = interpolation_gates[:,0,:]\n",
    "print(gate.shape)\n",
    "shift = shift_weightings[:,0,:,:]\n",
    "print(shift.shape)\n",
    "gamma = sharp_gammas[:,0,:]\n",
    "print(gamma.shape)\n",
    "\n",
    "# CHECK THIS\n",
    "new_read_w = read_weightings[:,1,:,:]\n",
    "read_vector = mem['memory_vectors']\n",
    "\n",
    "prev_weights = np.ones((1,128,1),dtype=np.float32) * 1e-6\n",
    "mem_init = np.ones((1,128,20),dtype=np.float32) * 1e-6"
   ]
  },
  {
   "cell_type": "code",
   "execution_count": 16,
   "metadata": {
    "collapsed": false
   },
   "outputs": [
    {
     "data": {
      "text/plain": [
       "(1, 128, 20)"
      ]
     },
     "execution_count": 16,
     "metadata": {},
     "output_type": "execute_result"
    }
   ],
   "source": [
    "mem_init = mem_step"
   ]
  },
  {
   "cell_type": "code",
   "execution_count": 17,
   "metadata": {
    "collapsed": false
   },
   "outputs": [
    {
     "name": "stdout",
     "output_type": "stream",
     "text": [
      "Tensor(\"div_1:0\", shape=(1, 128, 1), dtype=float32)\n"
     ]
    }
   ],
   "source": [
    "normalized_memory = tf.nn.l2_normalize(mem_init, 2)\n",
    "normalized_keys = tf.nn.l2_normalize(keys_step, 1)\n",
    "\n",
    "similiarity = tf.batch_matmul(normalized_memory, normalized_keys)\n",
    "strength = tf.expand_dims(beta_read, 1)\n",
    "\n",
    "content_w = tf.nn.softmax(similiarity * strength, 1)\n",
    "\n",
    "interpolation_gate = tf.expand_dims(gate,1)\n",
    "gated_weighting = interpolation_gate * content_w + (1.0 - interpolation_gate) * prev_weights\n",
    "\n",
    "gated_weighting = tf.concat(1, [tf.expand_dims(gated_weighting[:,-1,:], axis=-1), gated_weighting, tf.expand_dims(gated_weighting[:,0,:], axis=-1)])\n",
    "\n",
    "gated_weighting = tf.expand_dims(gated_weighting,0)\n",
    "shift = tf.expand_dims(shift,-1)\n",
    "\n",
    "conv = tf.nn.conv2d(\n",
    "    gated_weighting,\n",
    "    shift,\n",
    "    strides=[1, 1, 1, 1],\n",
    "    padding=\"VALID\")\n",
    "\n",
    "after_conv_shift = tf.squeeze(conv, axis=0)\n",
    "\n",
    "sharp_gamma = tf.expand_dims(gamma,1)\n",
    "powed_conv_w = tf.pow(after_conv_shift, sharp_gamma)\n",
    "after_sharp =  powed_conv_w / tf.expand_dims(tf.reduce_sum(powed_conv_w,1),1)\n",
    "\n",
    "print(after_sharp)"
   ]
  },
  {
   "cell_type": "code",
   "execution_count": 42,
   "metadata": {
    "collapsed": false
   },
   "outputs": [
    {
     "name": "stdout",
     "output_type": "stream",
     "text": [
      "[[[-0.10929872 -0.15845233]\n",
      "  [ 0.02845703  0.02241735]\n",
      "  [ 0.05407819 -0.04841181]\n",
      "  [-0.12371161 -0.13376456]\n",
      "  [ 0.09319413 -0.01533899]]]\n"
     ]
    }
   ],
   "source": [
    "with tf.Session() as session:\n",
    "    res = session.run(a)\n",
    "    \n",
    "print(res)"
   ]
  },
  {
   "cell_type": "code",
   "execution_count": null,
   "metadata": {
    "collapsed": true
   },
   "outputs": [],
   "source": []
  }
 ],
 "metadata": {
  "kernelspec": {
   "display_name": "Python 2",
   "language": "python",
   "name": "python2"
  },
  "language_info": {
   "codemirror_mode": {
    "name": "ipython",
    "version": 2
   },
   "file_extension": ".py",
   "mimetype": "text/x-python",
   "name": "python",
   "nbconvert_exporter": "python",
   "pygments_lexer": "ipython2",
   "version": "2.7.13"
  }
 },
 "nbformat": 4,
 "nbformat_minor": 2
}
