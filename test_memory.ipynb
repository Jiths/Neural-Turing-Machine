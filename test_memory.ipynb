{
 "cells": [
  {
   "cell_type": "code",
   "execution_count": 1,
   "metadata": {
    "collapsed": false,
    "deletable": true,
    "editable": true
   },
   "outputs": [],
   "source": [
    "import tensorflow as tf\n",
    "from memory import Memory\n",
    "import numpy as np\n",
    "import math"
   ]
  },
  {
   "cell_type": "code",
   "execution_count": 2,
   "metadata": {
    "collapsed": false,
    "deletable": true,
    "editable": true
   },
   "outputs": [
    {
     "data": {
      "text/plain": [
       "(<tf.Tensor 'Fill:0' shape=(2, 10, 5) dtype=float32>,\n",
       " <tf.Tensor 'Fill_1:0' shape=(2, 10, 1) dtype=float32>,\n",
       " <tf.Tensor 'Fill_2:0' shape=(2, 10, 1) dtype=float32>,\n",
       " <tf.Tensor 'Fill_3:0' shape=(2, 5, 1) dtype=float32>)"
      ]
     },
     "execution_count": 2,
     "metadata": {},
     "output_type": "execute_result"
    }
   ],
   "source": [
    "batch_size = 2\n",
    "read_heads = 1\n",
    "\n",
    "mem_size = 10\n",
    "vector_size = 5\n",
    "\n",
    "memory = Memory(mem_size, vector_size, read_heads, batch_size)\n",
    "memory_state = memory.init_memory()\n",
    "memory_state"
   ]
  },
  {
   "cell_type": "code",
   "execution_count": 3,
   "metadata": {
    "collapsed": false,
    "deletable": true,
    "editable": true
   },
   "outputs": [
    {
     "name": "stdout",
     "output_type": "stream",
     "text": [
      "('keys', <tf.Tensor 'Fill_4:0' shape=(2, 5, 1) dtype=float32>)\n",
      "('strengths', <tf.Tensor 'Fill_5:0' shape=(2, 1) dtype=float32>)\n",
      "('gate', <tf.Tensor 'Fill_6:0' shape=(2, 1) dtype=float32>)\n",
      "('shift', <tf.Tensor 'transpose_1:0' shape=(2, 3, 1) dtype=float32>)\n",
      "('gamma', <tf.Tensor 'Fill_7:0' shape=(2, 1) dtype=float32>)\n",
      "('add', <tf.Tensor 'Const_1:0' shape=(2, 5) dtype=float32>)\n",
      "('erase', <tf.Tensor 'Const_2:0' shape=(2, 5) dtype=float32>)\n"
     ]
    }
   ],
   "source": [
    "keys = tf.fill([batch_size,vector_size,read_heads], 1.0)\n",
    "print('keys',keys)\n",
    "strengths = tf.fill([batch_size,read_heads], 1.0)\n",
    "print('strengths',strengths)\n",
    "interpolation_gate = tf.fill([batch_size,read_heads], 1.0)\n",
    "print('gate',interpolation_gate)\n",
    "\n",
    "#shift_weighting = tf.reshape(tf.constant([0.2, 0.6, 0.2, 0.3, 0.5, 0.1, 0.2, 0.4, 0.1, 0.2, 0.3, 0.25]),(-1,3,read_heads))\n",
    "shift_weighting = tf.reshape(tf.constant([0.2, 0.4, 0.1, 0.2, 0.3, 0.25]),(-1,3,read_heads))\n",
    "shift_weighting = tf.nn.softmax(shift_weighting,dim=1)\n",
    "print('shift',shift_weighting)\n",
    "gamma = tf.fill([batch_size,read_heads], 1.0)\n",
    "print('gamma',gamma)\n",
    "\n",
    "add = tf.constant([[2.0, 1.6, 4.0, 1.0, 0.1],[1.0, 1.1, 2.0, 1.0, 0.1]])\n",
    "erase = tf.constant([[0.0, 0.0, 0.0, 0.0, 0.0],[0.5, 0.5, 0.2, 0.0, 0.0]])\n",
    "print('add',add)\n",
    "print('erase',erase)"
   ]
  },
  {
   "cell_type": "markdown",
   "metadata": {
    "deletable": true,
    "editable": true
   },
   "source": [
    "## Get content addressing"
   ]
  },
  {
   "cell_type": "code",
   "execution_count": 4,
   "metadata": {
    "collapsed": false,
    "deletable": true,
    "editable": true
   },
   "outputs": [
    {
     "name": "stdout",
     "output_type": "stream",
     "text": [
      "Tensor(\"BatchMatMul:0\", shape=(2, 10, 1), dtype=float32)\n",
      "Tensor(\"ExpandDims:0\", shape=(2, 1, 1), dtype=float32)\n",
      "Tensor(\"transpose_3:0\", shape=(2, 10, 1), dtype=float32)\n"
     ]
    }
   ],
   "source": [
    "normalized_memory = tf.nn.l2_normalize(memory_state[0], 2)\n",
    "normalized_keys = tf.nn.l2_normalize(keys, 1)\n",
    "\n",
    "similiarity = tf.batch_matmul(normalized_memory, normalized_keys)\n",
    "print(similiarity)\n",
    "\n",
    "strengths = tf.expand_dims(strengths, 1)\n",
    "print(strengths)\n",
    "\n",
    "content_weights = tf.nn.softmax(similiarity * strengths, 1)\n",
    "print(content_weights)"
   ]
  },
  {
   "cell_type": "markdown",
   "metadata": {
    "deletable": true,
    "editable": true
   },
   "source": [
    "## Test Interpolation"
   ]
  },
  {
   "cell_type": "code",
   "execution_count": 5,
   "metadata": {
    "collapsed": false,
    "deletable": true,
    "editable": true
   },
   "outputs": [
    {
     "name": "stdout",
     "output_type": "stream",
     "text": [
      "Tensor(\"add:0\", shape=(2, 10, 1), dtype=float32)\n"
     ]
    }
   ],
   "source": [
    "interpolation_gate = tf.expand_dims(interpolation_gate,1)\n",
    "gated_weighting = interpolation_gate * content_weights + (1 - interpolation_gate) * memory_state[2]\n",
    "print(gated_weighting)"
   ]
  },
  {
   "cell_type": "markdown",
   "metadata": {
    "deletable": true,
    "editable": true
   },
   "source": [
    "## Circular convolution"
   ]
  },
  {
   "cell_type": "code",
   "execution_count": 6,
   "metadata": {
    "collapsed": false,
    "deletable": true,
    "editable": true
   },
   "outputs": [
    {
     "data": {
      "text/plain": [
       "<tf.Tensor 'Reshape_5:0' shape=(2, 10, 2) dtype=float32>"
      ]
     },
     "execution_count": 6,
     "metadata": {},
     "output_type": "execute_result"
    }
   ],
   "source": [
    "gated_weighting = tf.constant([[[2.0, 1.6, 4.0, 1.0, 0.1, 0.2, 0.4, 2, 3.5, 10],[1.0, 0.5, 2.0, 1.1, 3.1, 0.25, 0.33, 0.14, 0.1, 0]],\n",
    "                               [[1.0, 1.6, 3.0, 1.0, 0.21, 0.2, 0.6, 1, 0.5, 1],[0.0, 0.0, 1.0, 0.1, 0.1, 0.15, 0.53, 1, 0.1, 0]]])\n",
    "\n",
    "gated_weighting = tf.reshape(gated_weighting,(2,10,2))\n",
    "gated_weighting"
   ]
  },
  {
   "cell_type": "code",
   "execution_count": 6,
   "metadata": {
    "collapsed": false,
    "deletable": true,
    "editable": true
   },
   "outputs": [
    {
     "data": {
      "text/plain": [
       "<tf.Tensor 'stack:0' shape=(2, 10, 1) dtype=float32>"
      ]
     },
     "execution_count": 6,
     "metadata": {},
     "output_type": "execute_result"
    }
   ],
   "source": [
    "size = int(gated_weighting.get_shape()[1])\n",
    "kernel_size = int(shift_weighting.get_shape()[1])\n",
    "kernel_shift = int(math.floor(kernel_size/2.0))\n",
    "\n",
    "def loop(idx):\n",
    "    if idx < 0: return size + idx\n",
    "    if idx >= size : return idx - size\n",
    "    else: return idx\n",
    "\n",
    "kernels = []\n",
    "for i in xrange(size):\n",
    "    indices = [loop(i+j) for j in xrange(kernel_shift, -kernel_shift-1, -1)]\n",
    "    v_ = tf.transpose(tf.gather(tf.transpose(gated_weighting,perm=(1,2,0)), indices),perm=(2,0,1))\n",
    "    kernels.append(tf.reduce_sum(v_ * shift_weighting, 1))\n",
    "\n",
    "result_after_shift = tf.stack(kernels, axis=1)\n",
    "result_after_shift"
   ]
  },
  {
   "cell_type": "markdown",
   "metadata": {
    "deletable": true,
    "editable": true
   },
   "source": [
    "## Sharpening"
   ]
  },
  {
   "cell_type": "code",
   "execution_count": 7,
   "metadata": {
    "collapsed": false,
    "deletable": true,
    "editable": true
   },
   "outputs": [
    {
     "data": {
      "text/plain": [
       "<tf.Tensor 'div:0' shape=(2, 10, 1) dtype=float32>"
      ]
     },
     "execution_count": 7,
     "metadata": {},
     "output_type": "execute_result"
    }
   ],
   "source": [
    "powed_conv_w = tf.pow(result_after_shift, tf.expand_dims(gamma,1))\n",
    "after_sharp = powed_conv_w / tf.expand_dims(tf.reduce_sum(powed_conv_w,1),1)\n",
    "after_sharp"
   ]
  },
  {
   "cell_type": "markdown",
   "metadata": {
    "deletable": true,
    "editable": true
   },
   "source": [
    "## Update memory"
   ]
  },
  {
   "cell_type": "code",
   "execution_count": 8,
   "metadata": {
    "collapsed": false,
    "deletable": true,
    "editable": true
   },
   "outputs": [
    {
     "name": "stdout",
     "output_type": "stream",
     "text": [
      "Tensor(\"add_1:0\", shape=(2, 10, 5), dtype=float32)\n"
     ]
    }
   ],
   "source": [
    "write_vector = tf.expand_dims(add, 1)\n",
    "erase_vector = tf.expand_dims(erase, 1)\n",
    "erasing = memory_state[0] * (1 - tf.batch_matmul(after_sharp, erase_vector))\n",
    "writing = tf.batch_matmul(after_sharp, write_vector)\n",
    "updated_memory = erasing + writing\n",
    "print(updated_memory)"
   ]
  },
  {
   "cell_type": "code",
   "execution_count": 4,
   "metadata": {
    "collapsed": false,
    "deletable": true,
    "editable": true
   },
   "outputs": [
    {
     "name": "stdout",
     "output_type": "stream",
     "text": [
      "Tensor(\"div:0\", shape=(2, 10, 1), dtype=float32)\n",
      "Tensor(\"add_1:0\", shape=(2, 10, 5), dtype=float32)\n"
     ]
    }
   ],
   "source": [
    "new_weigth, new_memory = memory.write(memory_state[0],memory_state[1],keys,strengths,interpolation_gate,shift_weighting,gamma,add,erase)\n",
    "print(new_weigth)\n",
    "print(new_memory)"
   ]
  },
  {
   "cell_type": "markdown",
   "metadata": {},
   "source": [
    "## OR read memory"
   ]
  },
  {
   "cell_type": "code",
   "execution_count": 83,
   "metadata": {
    "collapsed": false
   },
   "outputs": [
    {
     "data": {
      "text/plain": [
       "<tf.Tensor 'BatchMatMul_6:0' shape=(2, 5, 2) dtype=float32>"
      ]
     },
     "execution_count": 83,
     "metadata": {},
     "output_type": "execute_result"
    }
   ],
   "source": [
    "updated_read_vectors = tf.batch_matmul(memory_state[0], after_sharp, adj_x=True)\n",
    "updated_read_vectors"
   ]
  },
  {
   "cell_type": "code",
   "execution_count": 5,
   "metadata": {
    "collapsed": false
   },
   "outputs": [
    {
     "name": "stdout",
     "output_type": "stream",
     "text": [
      "Tensor(\"div_1:0\", shape=(2, 10, 2), dtype=float32)\n",
      "Tensor(\"BatchMatMul_3:0\", shape=(2, 5, 2), dtype=float32)\n"
     ]
    }
   ],
   "source": [
    "new_read_weigth, new_read_vector = memory.read(memory_state[0],memory_state[2],keys,strengths,interpolation_gate,shift_weighting,gamma)\n",
    "print(new_read_weigth)\n",
    "print(new_read_vector)"
   ]
  },
  {
   "cell_type": "code",
   "execution_count": 85,
   "metadata": {
    "collapsed": false,
    "deletable": true,
    "editable": true
   },
   "outputs": [
    {
     "name": "stdout",
     "output_type": "stream",
     "text": [
      "[[[ 2.          1.60000002]\n",
      "  [ 0.1         0.        ]\n",
      "  [ 0.33000001  0.14      ]]\n",
      "\n",
      " [[ 1.          1.60000002]\n",
      "  [ 0.1         0.        ]\n",
      "  [ 0.52999997  1.        ]]]\n"
     ]
    }
   ],
   "source": [
    "with tf.Session() as session:\n",
    "    values = session.run(v_)\n",
    "    print(values)"
   ]
  },
  {
   "cell_type": "code",
   "execution_count": null,
   "metadata": {
    "collapsed": true,
    "deletable": true,
    "editable": true
   },
   "outputs": [],
   "source": []
  }
 ],
 "metadata": {
  "kernelspec": {
   "display_name": "Python 2",
   "language": "python",
   "name": "python2"
  },
  "language_info": {
   "codemirror_mode": {
    "name": "ipython",
    "version": 2
   },
   "file_extension": ".py",
   "mimetype": "text/x-python",
   "name": "python",
   "nbconvert_exporter": "python",
   "pygments_lexer": "ipython2",
   "version": "2.7.13"
  }
 },
 "nbformat": 4,
 "nbformat_minor": 2
}
